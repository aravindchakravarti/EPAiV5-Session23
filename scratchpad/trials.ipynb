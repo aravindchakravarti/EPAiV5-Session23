{
 "cells": [
  {
   "cell_type": "markdown",
   "metadata": {},
   "source": [
    "\n",
    "#### Problem Statement:\n",
    "You are tasked with creating a **UserProfileManager** system that manages user profiles. Each profile has the following attributes:\n",
    "- `username` (must be a non-empty string).\n",
    "- `email` (must contain \"@\" and \".\").\n",
    "- `last_login` (a datetime object, nullable).\n",
    "\n",
    "The system must meet these requirements:\n",
    "\n",
    "1. **Custom Descriptors for Validation and Storage**:\n",
    "   - Create a `ValidatedProperty` descriptor that validates data using a provided validation function before assignment.\n",
    "   - Use `__set_name__` to automatically bind property names.\n",
    "\n",
    "2. **Strong and Weak References**:\n",
    "   - Implement a caching mechanism to store recently used profiles. Use weak references to avoid memory leaks.\n",
    "   - Profiles must be automatically removed from the cache when they are no longer strongly referenced elsewhere.\n",
    "\n",
    "3. **Property Resolution and Overrides**:\n",
    "   - Implement a class-level default value for `last_login` that is returned if the value is not explicitly set for an instance.\n",
    "\n",
    "4. **Testing and Edge Cases**:\n",
    "   - Write unit tests to verify proper validation, caching, and default handling.\n",
    "\n",
    "---\n",
    "\n",
    "#### Deliverables:\n",
    "1. **Implementation**: A Python file (`user_profile_manager.py`) containing the solution.\n",
    "2. **Pytest Test Cases**: A file (`test_user_profile_manager.py`) with thorough test cases covering all requirements.\n",
    "3. **GitHub Actions Workflow**: A file (`.github/workflows/python-tests.yml`) to automate testing on push or pull requests.\n",
    "\n",
    "---\n",
    "\n",
    "#### Evaluation Criteria:\n",
    "- **Correctness**: Does the implementation meet all requirements?\n",
    "- **Code Quality**: Is the code clean, modular, and well-documented?\n",
    "- **Testing**: Are all edge cases covered, and do tests pass consistently?\n",
    "- **Automation**: Is the GitHub Actions workflow correctly implemented?\n",
    "\n",
    "---"
   ]
  },
  {
   "cell_type": "markdown",
   "metadata": {},
   "source": [
    "# test_user_profile_manager.py"
   ]
  },
  {
   "cell_type": "markdown",
   "metadata": {},
   "source": []
  },
  {
   "cell_type": "code",
   "execution_count": null,
   "metadata": {
    "vscode": {
     "languageId": "plaintext"
    }
   },
   "outputs": [],
   "source": [
    "\n",
    "import pytest\n",
    "from user_profile_manager import UserProfileManager\n",
    "\n",
    "def test_username_validation():\n",
    "    manager = UserProfileManager()\n",
    "    with pytest.raises(ValueError):\n",
    "        manager.username = \"\"  # Invalid: Empty string\n",
    "    manager.username = \"valid_user\"  # Valid\n",
    "    assert manager.username == \"valid_user\"\n",
    "\n",
    "def test_email_validation():\n",
    "    manager = UserProfileManager()\n",
    "    with pytest.raises(ValueError):\n",
    "        manager.email = \"invalidemail.com\"  # Invalid: Missing '@'\n",
    "    manager.email = \"user@example.com\"  # Valid\n",
    "    assert manager.email == \"user@example.com\"\n",
    "\n",
    "def test_last_login_default():\n",
    "    manager = UserProfileManager()\n",
    "    assert manager.last_login is None  # Default value\n",
    "\n",
    "def test_cache_management():\n",
    "    manager = UserProfileManager()\n",
    "    manager.username = \"cache_test\"\n",
    "    manager.email = \"test@example.com\"\n",
    "    uid = id(manager)\n",
    "    \n",
    "    # Add to cache and check existence\n",
    "    UserProfileManager.add_to_cache(manager)\n",
    "    assert UserProfileManager.get_from_cache(uid) is manager\n",
    "    \n",
    "    # Delete strong reference and confirm weak ref removal\n",
    "    del manager\n",
    "    assert UserProfileManager.get_from_cache(uid) is None\n",
    "\n",
    "def test_property_resolution():\n",
    "    manager = UserProfileManager()\n",
    "    manager.last_login = None  # Should resolve to default if unset\n",
    "    assert manager.last_login is None\n"
   ]
  },
  {
   "cell_type": "markdown",
   "metadata": {},
   "source": [
    "# python-tests.yml"
   ]
  },
  {
   "cell_type": "code",
   "execution_count": null,
   "metadata": {
    "vscode": {
     "languageId": "plaintext"
    }
   },
   "outputs": [],
   "source": [
    "\n",
    "name: Python Tests\n",
    "\n",
    "on:\n",
    "  push:\n",
    "    branches:\n",
    "      - main\n",
    "  pull_request:\n",
    "    branches:\n",
    "      - main\n",
    "\n",
    "jobs:\n",
    "  test:\n",
    "    runs-on: ubuntu-latest\n",
    "    steps:\n",
    "    - uses: actions/checkout@v3\n",
    "    - name: Set up Python\n",
    "      uses: actions/setup-python@v3\n",
    "      with:\n",
    "        python-version: '3.x'\n",
    "    - name: Install dependencies\n",
    "      run: |\n",
    "        python -m pip install --upgrade pip\n",
    "        pip install pytest\n",
    "    - name: Run tests\n",
    "      run: pytest\n"
   ]
  },
  {
   "cell_type": "markdown",
   "metadata": {},
   "source": []
  }
 ],
 "metadata": {
  "language_info": {
   "name": "python"
  }
 },
 "nbformat": 4,
 "nbformat_minor": 2
}
